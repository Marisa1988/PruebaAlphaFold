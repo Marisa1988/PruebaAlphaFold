{
 "cells": [
  {
   "cell_type": "code",
   "execution_count": null,
   "id": "9dadbdbd-56bf-410c-b0d8-8d7e161f5c8e",
   "metadata": {
    "tags": []
   },
   "outputs": [],
   "source": [
    "import torch\n",
    "from openfold.model import AlphaFold\n",
    "\n",
    "# Initialize the model\n",
    "model = AlphaFold()\n",
    "\n",
    "# Example input\n",
    "sequence = \"MKLKQVADKLEEVASKLYHNANELARVAKLLGER\"\n",
    "input_tensor = torch.tensor([ord(c) for c in sequence])\n",
    "\n",
    "# Run the model\n",
    "output = model(input_tensor)\n",
    "print(output)"
   ]
  },
  {
   "cell_type": "code",
   "execution_count": null,
   "id": "289a42a5-39dc-439e-9e15-9c76d7c030be",
   "metadata": {},
   "outputs": [],
   "source": []
  }
 ],
 "metadata": {
  "kernelspec": {
   "display_name": "UFRC Python-3.10",
   "language": "python",
   "name": "python3-3.10-ufrc"
  },
  "language_info": {
   "codemirror_mode": {
    "name": "ipython",
    "version": 3
   },
   "file_extension": ".py",
   "mimetype": "text/x-python",
   "name": "python",
   "nbconvert_exporter": "python",
   "pygments_lexer": "ipython3",
   "version": "3.10.8"
  }
 },
 "nbformat": 4,
 "nbformat_minor": 5
}
