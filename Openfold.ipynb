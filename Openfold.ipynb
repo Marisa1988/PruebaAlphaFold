{
 "cells": [
  {
   "cell_type": "code",
   "execution_count": 1,
   "id": "9dadbdbd-56bf-410c-b0d8-8d7e161f5c8e",
   "metadata": {
    "tags": []
   },
   "outputs": [
    {
     "ename": "ModuleNotFoundError",
     "evalue": "No module named 'openfold.model'",
     "output_type": "error",
     "traceback": [
      "\u001b[0;31m---------------------------------------------------------------------------\u001b[0m",
      "\u001b[0;31mModuleNotFoundError\u001b[0m                       Traceback (most recent call last)",
      "Cell \u001b[0;32mIn[1], line 2\u001b[0m\n\u001b[1;32m      1\u001b[0m \u001b[38;5;28;01mimport\u001b[39;00m \u001b[38;5;21;01mtorch\u001b[39;00m\n\u001b[0;32m----> 2\u001b[0m \u001b[38;5;28;01mfrom\u001b[39;00m \u001b[38;5;21;01mopenfold\u001b[39;00m\u001b[38;5;21;01m.\u001b[39;00m\u001b[38;5;21;01mmodel\u001b[39;00m \u001b[38;5;28;01mimport\u001b[39;00m AlphaFold\n\u001b[1;32m      4\u001b[0m \u001b[38;5;66;03m# Initialize the model\u001b[39;00m\n\u001b[1;32m      5\u001b[0m model \u001b[38;5;241m=\u001b[39m AlphaFold()\n",
      "\u001b[0;31mModuleNotFoundError\u001b[0m: No module named 'openfold.model'"
     ]
    }
   ],
   "source": [
    "import torch\n",
    "from openfold.model import AlphaFold\n",
    "\n",
    "# Initialize the model\n",
    "model = AlphaFold()\n",
    "\n",
    "# Example input\n",
    "sequence = \"MKLKQVADKLEEVASKLYHNANELARVAKLLGER\"\n",
    "input_tensor = torch.tensor([ord(c) for c in sequence])\n",
    "\n",
    "# Run the model\n",
    "output = model(input_tensor)\n",
    "print(output)"
   ]
  },
  {
   "cell_type": "code",
   "execution_count": null,
   "id": "289a42a5-39dc-439e-9e15-9c76d7c030be",
   "metadata": {},
   "outputs": [],
   "source": []
  }
 ],
 "metadata": {
  "kernelspec": {
   "display_name": "UFRC Python-3.10",
   "language": "python",
   "name": "python3-3.10-ufrc"
  },
  "language_info": {
   "codemirror_mode": {
    "name": "ipython",
    "version": 3
   },
   "file_extension": ".py",
   "mimetype": "text/x-python",
   "name": "python",
   "nbconvert_exporter": "python",
   "pygments_lexer": "ipython3",
   "version": "3.10.8"
  }
 },
 "nbformat": 4,
 "nbformat_minor": 5
}
