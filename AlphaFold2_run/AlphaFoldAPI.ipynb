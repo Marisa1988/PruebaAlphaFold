{
 "cells": [
  {
   "cell_type": "code",
   "execution_count": 1,
   "id": "93bdbc30-b787-42b9-9e39-3b16a187e8d3",
   "metadata": {
    "tags": []
   },
   "outputs": [
    {
     "name": "stdout",
     "output_type": "stream",
     "text": [
      "Successfully accessed AlphaFold Protein Structure Database.\n",
      "URL: https://alphafold.ebi.ac.uk/\n"
     ]
    }
   ],
   "source": [
    "import requests\n",
    "\n",
    "def get_alphafold_info():\n",
    "    url = \"https://alphafold.ebi.ac.uk/\"\n",
    "    response = requests.get(url)\n",
    "    \n",
    "    if response.status_code == 200:\n",
    "        print(\"Successfully accessed AlphaFold Protein Structure Database.\")\n",
    "        print(\"URL:\", url)\n",
    "        \n",
    "    else:\n",
    "        print(\"Failed to access AlphaFold Protein Structure Database.\")\n",
    "        print(\"Status Code:\", response.status_code)\n",
    "\n",
    "if __name__ == \"__main__\":\n",
    "    get_alphafold_info()"
   ]
  },
  {
   "cell_type": "code",
   "execution_count": 2,
   "id": "68981958-f6e8-40e2-87c4-3e16a9141c1c",
   "metadata": {
    "tags": []
   },
   "outputs": [
    {
     "name": "stdout",
     "output_type": "stream",
     "text": [
      "\n",
      "    A UniProt ID is a unique identifier assigned to a protein sequence in the UniProt database. \n",
      "    It ensures that each protein can be accurately referenced and retrieved, \n",
      "    providing a stable and consistent way to link protein data across various biological databases.\n",
      "    \n",
      "Here are some examples of UniProt IDs:\n",
      "UniProt ID: P12345\n",
      "UniProt ID: Q9Y2X3\n",
      "UniProt ID: P0DTC2\n",
      "UniProt ID: Q8N158\n",
      "UniProt ID: P69905\n",
      "UniProt ID: P68871\n",
      "UniProt ID: P00734\n",
      "UniProt ID: P69905\n",
      "UniProt ID: P68871\n",
      "UniProt ID: P00734\n"
     ]
    }
   ],
   "source": [
    "import requests\n",
    "\n",
    "def explain_uniprot_id():\n",
    "    explanation = \"\"\"\n",
    "    A UniProt ID is a unique identifier assigned to a protein sequence in the UniProt database. \n",
    "    It ensures that each protein can be accurately referenced and retrieved, \n",
    "    providing a stable and consistent way to link protein data across various biological databases.\n",
    "    \"\"\"\n",
    "    print(explanation)\n",
    "\n",
    "def get_available_uniprot_ids():\n",
    "    # Predefined list of UniProt IDs for demonstration\n",
    "    uniprot_ids = [\n",
    "        \"P12345\", \"Q9Y2X3\", \"P0DTC2\", \"Q8N158\", \"P69905\",\n",
    "        \"P68871\", \"P00734\", \"P69905\", \"P68871\", \"P00734\"\n",
    "    ]\n",
    "    \n",
    "    print(\"Here are some examples of UniProt IDs:\")\n",
    "    for uniprot_id in uniprot_ids:\n",
    "        print(f\"UniProt ID: {uniprot_id}\")\n",
    "\n",
    "if __name__ == \"__main__\":\n",
    "    explain_uniprot_id()\n",
    "    get_available_uniprot_ids()\n"
   ]
  },
  {
   "cell_type": "code",
   "execution_count": 3,
   "id": "c5a32dba-f78d-4fdf-86bd-9a7d409522a7",
   "metadata": {
    "tags": []
   },
   "outputs": [
    {
     "name": "stdin",
     "output_type": "stream",
     "text": [
      "Enter a UniProt ID to see specific information:  P69905\n"
     ]
    },
    {
     "name": "stdout",
     "output_type": "stream",
     "text": [
      "Successfully accessed data for UniProt ID: P69905\n",
      "Gene: HBA1\n",
      "Sequence Version Date: 2007-01-23\n",
      "UniProt Description: Hemoglobin subunit alpha\n",
      "Organism Scientific Name: Homo sapiens\n",
      "UniProt End: 142\n",
      "UniProt Sequence: MVLSPADKTNVKAAWGKVGAHAGEYGAEALERMFLSFPTTKTYFPHFDLSHGSAQVKGHGKKVADALTNAVAHVDDMPNALSALSDLHAHKLRVDPVNFKLLSHCLLVTLAAHLPAEFTPAVHASLDKFLASVSTVLTSKYR\n",
      "Model Created Date: 2022-06-01\n",
      "----------------------------------------\n",
      "PDB URL: https://alphafold.ebi.ac.uk/files/AF-P69905-F1-model_v4.pdb\n"
     ]
    }
   ],
   "source": [
    "import requests\n",
    "\n",
    "def get_protein_info(uniprot_id):\n",
    "    url = f\"https://alphafold.ebi.ac.uk/api/prediction/{uniprot_id}\"\n",
    "    response = requests.get(url)\n",
    "    \n",
    "    if response.status_code == 200:\n",
    "        data = response.json()\n",
    "        print(f\"Successfully accessed data for UniProt ID: {uniprot_id}\")\n",
    "        for entry in data:\n",
    "            gene = entry.get('gene', 'N/A')\n",
    "            sequence_version_date = entry.get('sequenceVersionDate', 'N/A')\n",
    "            uniprot_description = entry.get('uniprotDescription', 'N/A')\n",
    "            organism_scientific_name = entry.get('organismScientificName', 'N/A')\n",
    "            uniprot_end = entry.get('uniprotEnd', 'N/A')\n",
    "            uniprot_sequence = entry.get('uniprotSequence', 'N/A')\n",
    "            model_created_date = entry.get('modelCreatedDate', 'N/A')\n",
    "            pdb_url = entry.get('pdbUrl', 'N/A')\n",
    "            \n",
    "            print(f\"Gene: {gene}\")\n",
    "            print(f\"Sequence Version Date: {sequence_version_date}\")\n",
    "            print(f\"UniProt Description: {uniprot_description}\")\n",
    "            print(f\"Organism Scientific Name: {organism_scientific_name}\")\n",
    "            print(f\"UniProt End: {uniprot_end}\")\n",
    "            print(f\"UniProt Sequence: {uniprot_sequence}\")\n",
    "            print(f\"Model Created Date: {model_created_date}\")\n",
    "            print(\"-\" * 40)\n",
    "        \n",
    "        if pdb_url != 'N/A':\n",
    "            print(f\"PDB URL: {pdb_url}\")\n",
    "        else:\n",
    "            print(\"No .pdb file available for this UniProt ID.\")\n",
    "    else:\n",
    "        print(f\"Failed to access data for UniProt ID: {uniprot_id}\")\n",
    "        print(\"Status Code:\", response.status_code)\n",
    "\n",
    "if __name__ == \"__main__\":\n",
    "    uniprot_id = input(\"Enter a UniProt ID to see specific information: \")\n",
    "    get_protein_info(uniprot_id)\n"
   ]
  },
  {
   "cell_type": "code",
   "execution_count": null,
   "id": "b9103962-4056-4a2e-a1b0-64c4ff950538",
   "metadata": {},
   "outputs": [],
   "source": []
  }
 ],
 "metadata": {
  "kernelspec": {
   "display_name": "UFRC Python-3.10",
   "language": "python",
   "name": "python3-3.10-ufrc"
  },
  "language_info": {
   "codemirror_mode": {
    "name": "ipython",
    "version": 3
   },
   "file_extension": ".py",
   "mimetype": "text/x-python",
   "name": "python",
   "nbconvert_exporter": "python",
   "pygments_lexer": "ipython3",
   "version": "3.10.8"
  }
 },
 "nbformat": 4,
 "nbformat_minor": 5
}
